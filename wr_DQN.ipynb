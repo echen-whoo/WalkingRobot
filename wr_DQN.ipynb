{
 "cells": [
  {
   "cell_type": "code",
   "execution_count": 1,
   "metadata": {},
   "outputs": [
    {
     "name": "stderr",
     "output_type": "stream",
     "text": [
      "Using TensorFlow backend.\n",
      "C:\\Users\\asus\\Anaconda3\\envs\\tensorflow\\lib\\site-packages\\requests\\__init__.py:91: RequestsDependencyWarning: urllib3 (1.25.3) or chardet (3.0.4) doesn't match a supported version!\n",
      "  RequestsDependencyWarning)\n"
     ]
    }
   ],
   "source": [
    "import gym\n",
    "import random\n",
    "import numpy as np\n",
    "import keras\n",
    "import matplotlib.pyplot as plt\n",
    "from collections import deque\n",
    "from keras.models import Sequential\n",
    "from keras.layers import Dense, Conv2D, Flatten\n",
    "from keras.optimizers import Adam\n",
    "from gym import error, spaces, utils\n",
    "from gym.utils import seeding\n",
    "from sklearn.preprocessing import OneHotEncoder\n",
    "from keras.utils import to_categorical"
   ]
  },
  {
   "cell_type": "markdown",
   "metadata": {},
   "source": [
    "### Encode the 16 states"
   ]
  },
  {
   "cell_type": "code",
   "execution_count": 2,
   "metadata": {},
   "outputs": [],
   "source": [
    "encoder=[1,2,3,4,5,6,7,8,9,10,11,12,13,14,15,16]\n",
    "encoder=to_categorical(encoder)"
   ]
  },
  {
   "cell_type": "code",
   "execution_count": 3,
   "metadata": {},
   "outputs": [],
   "source": [
    "encoder=encoder[:,2:]"
   ]
  },
  {
   "cell_type": "code",
   "execution_count": 4,
   "metadata": {},
   "outputs": [
    {
     "data": {
      "text/plain": [
       "(16, 15)"
      ]
     },
     "execution_count": 4,
     "metadata": {},
     "output_type": "execute_result"
    }
   ],
   "source": [
    "encoder.shape"
   ]
  },
  {
   "cell_type": "markdown",
   "metadata": {},
   "source": [
    "### Environment"
   ]
  },
  {
   "cell_type": "code",
   "execution_count": 33,
   "metadata": {},
   "outputs": [],
   "source": [
    "class WalkingRobotEnv(gym.Env):\n",
    "    '''\n",
    "    Discription:\n",
    "        This is the env of HW02, Ex03.\n",
    "    Observation:\n",
    "        There are 16 states as shown in img/\n",
    "    Actions:\n",
    "        There are 4 actions:\n",
    "        0: Move right leg up or down\n",
    "        1: Move right leg back- or forward\n",
    "        2: Move left leg up or down\n",
    "        3: Move left leg back- or forward\n",
    "    '''\n",
    "    metadata = {'render.modes': ['human']}\n",
    "\n",
    "    def __init__(self):\n",
    "        self.action_space = spaces.Discrete(4) \n",
    "        self.observation_space = spaces.Discrete(1) # the observation is only 1 dimension\n",
    "        \n",
    "        self.delta = np.matrix([[2,4,5,13], \n",
    "                               [1,3,6,14],\n",
    "                               [4,2,7,15],\n",
    "                               [3,1,8,16],\n",
    "                               [6,8,1,9],\n",
    "                               [5,7,2,10],\n",
    "                               [8,6,3,11],\n",
    "                               [7,5,4,12],\n",
    "                               [10,12,13,5],\n",
    "                               [9,11,14,6],\n",
    "                               [12,10,15,7],\n",
    "                               [11,9,16,8],\n",
    "                               [14,16,9,1],\n",
    "                               [13,15,10,2],\n",
    "                               [16,14,11,3],\n",
    "                               [15,13,12,4]])\n",
    "        \n",
    "        self.reward_mat = np.matrix(  [[0, -1, 0, -1],\n",
    "                                       [0, 1, -1, 0],\n",
    "                                       [1, -1, -1, -1],\n",
    "                                       [-1, -1, 1, -1],\n",
    "                                       [-1,-1, -1, 1],\n",
    "                                       [0, -1, 0, -1],\n",
    "                                       [0, -1, 0, -1],\n",
    "                                       [-1, 1, -1, -1],\n",
    "                                       [-1, -1, 1, -1],\n",
    "                                       [0, -1, 0, -1],\n",
    "                                       [0, -1, 0, -1],\n",
    "                                       [-1, 0, -1, -1],\n",
    "                                       [1, -1, -1, -1],\n",
    "                                       [-1, -1, -1, 1],\n",
    "                                       [-1, -1, -1, 1],\n",
    "                                       [0, -1, 0, -1]])\n",
    "        self.state=None  \n",
    "        self.state_img=None # This time the agent can only see the image of the state\n",
    "        self.ob_img = [np.ones([2,2],dtype=np.float)]*16\n",
    "        self.n_move = 0\n",
    "        self.done = False\n",
    "        \n",
    "    def step(self, action):\n",
    "        state = self.state\n",
    "        self.ob_img[self.n_move] = self.state_img\n",
    "        reward = self.reward_mat[state-1,action]\n",
    "        state = self.delta[state-1,action]\n",
    "        self.state = state\n",
    "        s_img = plt.imread('./img/step%s.png'%str(state))\n",
    "        s_img = rgb2gray(s_img)\n",
    "        self.state_img = s_img.reshape(1,64,49,1)\n",
    "        self.n_move += 1\n",
    "        if self.n_move==16:\n",
    "            self.done = True\n",
    "        return self.state, reward, self.done\n",
    "        \n",
    "    def reset(self,state=None):\n",
    "        if state is None:\n",
    "            self.state = np.random.randint(1,16)\n",
    "        else:\n",
    "            self.state = state\n",
    "        s_img = plt.imread('./img/step%s.png'%str(self.state))\n",
    "        s_img = rgb2gray(s_img)\n",
    "        self.state_img = s_img.reshape(1,64,49,1)        \n",
    "        self.ob_img = [np.ones([2,2],dtype=np.float)]*16\n",
    "        self.n_move = 0;\n",
    "        self.done = False\n",
    "        return self.state\n",
    "    \n",
    "    def render(self,plot_process=True):\n",
    "        if plot_process:\n",
    "            fig=plt.figure(figsize=(18,18))\n",
    "            fig.subplots_adjust(hspace=0.4, wspace=0.5)\n",
    "            for i in range(16):\n",
    "                ax = fig.add_subplot(1,16,i+1)\n",
    "                ax.set_axis_off()\n",
    "                s_img = self.ob_img[i]\n",
    "                s_img = s_img.reshape(64,49)\n",
    "                ax.imshow(s_img,cmap='gray',vmax=1,vmin=0)\n",
    "                plt.tight_layout()"
   ]
  },
  {
   "cell_type": "code",
   "execution_count": 38,
   "metadata": {},
   "outputs": [],
   "source": [
    "def rgb2gray(rgb):\n",
    "    return np.dot(rgb[...,:3], [0.299, 0.587, 0.144])"
   ]
  },
  {
   "cell_type": "markdown",
   "metadata": {},
   "source": [
    "### Agent"
   ]
  },
  {
   "cell_type": "code",
   "execution_count": 35,
   "metadata": {},
   "outputs": [],
   "source": [
    "class DQNAgent:\n",
    "    def __init__(self,env,gamma=0.95,eps=1.0,eps_min=0.01,eps_decay=0.995,learning_rate=0.001):\n",
    "        self.env = env\n",
    "        # print(env.state_img)\n",
    "        self.state_size = env.observation_space.n\n",
    "        self.action_num = env.action_space.n\n",
    "        self.memory = deque(maxlen=2000)\n",
    "        self.gamma = gamma\n",
    "        self.eps = eps\n",
    "        self.eps_decay = eps_decay\n",
    "        self.eps_min = eps_min\n",
    "        self.learning_rate = learning_rate\n",
    "        self.model = self.build_model()\n",
    "        \n",
    "    def build_model(self):\n",
    "        # s_img = self.env.state_img\n",
    "        # s_img = rgb2gray(s_img)\n",
    "        # s_img = s_img.reshape(64,49,1)\n",
    "        model = Sequential()\n",
    "        model.add(Dense(32,input_dim=15,activation='relu'))\n",
    "        # model.add(Dense(24, activation='relu'))\n",
    "        model.add(Dense(16, activation='relu'))\n",
    "        model.add(Dense(self.action_num, activation='softmax'))\n",
    "        model.compile(loss='mse',optimizer=Adam(lr=self.learning_rate),metrics=['mean_squared_error'])\n",
    "        return model\n",
    "    \n",
    "    def remember(self, state, action, reward, next_state,done=False):      # in this case we don't need \"done\"\n",
    "        self.memory.append((state, action, reward, next_state, done))\n",
    "        \n",
    "    def act(self, state,training=True):\n",
    "        if np.random.rand() <= self.eps and training:\n",
    "            return np.random.randint(0,self.action_num-1)\n",
    "        act_prob = self.model.predict(state)\n",
    "        return act_prob[0].argmax()  # returns action\n",
    "    \n",
    "    def replay(self, batch_size):\n",
    "        minibatch = random.sample(self.memory, batch_size)\n",
    "        for state, action, reward, next_state, done in minibatch:\n",
    "            target = reward\n",
    "            if not done:\n",
    "                # print('not done')\n",
    "                target = reward + self.gamma * np.amax(self.model.predict(encoder[next_state-1:next_state,:])[0])\n",
    "            target_f = self.model.predict(encoder[state-1:state,:])\n",
    "            target_f[0][action] = 0.95*target_f[0][action] + 0.05*target\n",
    "            # plt.imshow(state.reshape(64,49),cmap='gray')\n",
    "            # plt.pause(1)\n",
    "            # print(\" : \",target_f)\n",
    "            self.model.fit(encoder[state-1:state,:], target_f, epochs=1, verbose=0)\n",
    "        if self.eps > self.eps_min:\n",
    "            self.eps *= self.eps_decay                  "
   ]
  },
  {
   "cell_type": "markdown",
   "metadata": {},
   "source": [
    "### Training "
   ]
  },
  {
   "cell_type": "code",
   "execution_count": 36,
   "metadata": {},
   "outputs": [],
   "source": [
    "env = WalkingRobotEnv()\n",
    "agent = DQNAgent(env)"
   ]
  },
  {
   "cell_type": "code",
   "execution_count": 39,
   "metadata": {},
   "outputs": [
    {
     "name": "stdout",
     "output_type": "stream",
     "text": [
      "######### episode 1 #########\n",
      "######### episode 2 #########\n",
      "######### episode 3 #########\n",
      "######### episode 4 #########\n",
      "######### episode 5 #########\n",
      "######### episode 6 #########\n",
      "######### episode 7 #########\n",
      "######### episode 8 #########\n",
      "######### episode 9 #########\n",
      "######### episode 10 #########\n",
      "######### episode 11 #########\n",
      "######### episode 12 #########\n",
      "######### episode 13 #########\n",
      "######### episode 14 #########\n",
      "######### episode 15 #########\n",
      "######### episode 16 #########\n",
      "######### episode 17 #########\n",
      "######### episode 18 #########\n",
      "######### episode 19 #########\n",
      "######### episode 20 #########\n",
      "######### episode 21 #########\n",
      "######### episode 22 #########\n",
      "######### episode 23 #########\n",
      "######### episode 24 #########\n",
      "######### episode 25 #########\n",
      "######### episode 26 #########\n",
      "######### episode 27 #########\n",
      "######### episode 28 #########\n",
      "######### episode 29 #########\n",
      "######### episode 30 #########\n",
      "######### episode 31 #########\n",
      "######### episode 32 #########\n",
      "######### episode 33 #########\n",
      "######### episode 34 #########\n",
      "######### episode 35 #########\n",
      "######### episode 36 #########\n",
      "######### episode 37 #########\n",
      "######### episode 38 #########\n",
      "######### episode 39 #########\n",
      "######### episode 40 #########\n",
      "######### episode 41 #########\n",
      "######### episode 42 #########\n",
      "######### episode 43 #########\n",
      "######### episode 44 #########\n",
      "######### episode 45 #########\n",
      "######### episode 46 #########\n",
      "######### episode 47 #########\n",
      "######### episode 48 #########\n",
      "######### episode 49 #########\n",
      "######### episode 50 #########\n",
      "######### episode 51 #########\n",
      "######### episode 52 #########\n",
      "######### episode 53 #########\n",
      "######### episode 54 #########\n",
      "######### episode 55 #########\n",
      "######### episode 56 #########\n",
      "######### episode 57 #########\n",
      "######### episode 58 #########\n",
      "######### episode 59 #########\n",
      "######### episode 60 #########\n",
      "######### episode 61 #########\n",
      "######### episode 62 #########\n",
      "######### episode 63 #########\n",
      "######### episode 64 #########\n",
      "######### episode 65 #########\n",
      "######### episode 66 #########\n",
      "######### episode 67 #########\n",
      "######### episode 68 #########\n",
      "######### episode 69 #########\n",
      "######### episode 70 #########\n",
      "######### episode 71 #########\n",
      "######### episode 72 #########\n",
      "######### episode 73 #########\n",
      "######### episode 74 #########\n",
      "######### episode 75 #########\n",
      "######### episode 76 #########\n",
      "######### episode 77 #########\n",
      "######### episode 78 #########\n",
      "######### episode 79 #########\n",
      "######### episode 80 #########\n",
      "######### episode 81 #########\n",
      "######### episode 82 #########\n",
      "######### episode 83 #########\n",
      "######### episode 84 #########\n",
      "######### episode 85 #########\n",
      "######### episode 86 #########\n",
      "######### episode 87 #########\n",
      "######### episode 88 #########\n",
      "######### episode 89 #########\n",
      "######### episode 90 #########\n",
      "######### episode 91 #########\n",
      "######### episode 92 #########\n",
      "######### episode 93 #########\n",
      "######### episode 94 #########\n",
      "######### episode 95 #########\n",
      "######### episode 96 #########\n",
      "######### episode 97 #########\n",
      "######### episode 98 #########\n",
      "######### episode 99 #########\n",
      "######### episode 100 #########\n"
     ]
    }
   ],
   "source": [
    "### Learning Process\n",
    "episodes = 100\n",
    "training = True\n",
    "for e in range(episodes):\n",
    "        # reset state in the beginning of each game\n",
    "        state = env.reset()\n",
    "        while training is True:\n",
    "            action = agent.act(encoder[state-1:state,:])\n",
    "            next_state, reward, done = env.step(action)\n",
    "            agent.remember(state, action, reward, next_state, done)\n",
    "            # make next_state the new current state for the next frame.\n",
    "            state = next_state\n",
    "            # done becomes True when the game ends\n",
    "            # ex) The agent drops the pole\n",
    "            if done:\n",
    "                # print the score and break out of the loop\n",
    "                print(\"######### episode %d #########\"%(e+1))\n",
    "                # env.render()\n",
    "                # plt.pause(1)\n",
    "                break\n",
    "                \n",
    "        # train the agent with the experience of the episode\n",
    "        agent.replay(16)"
   ]
  },
  {
   "cell_type": "markdown",
   "metadata": {},
   "source": [
    "### Test result"
   ]
  },
  {
   "cell_type": "code",
   "execution_count": 40,
   "metadata": {},
   "outputs": [
    {
     "data": {
      "image/png": "[encoded data removed]",
      "text/plain": [
       "<Figure size 1296x1296 with 16 Axes>"
      ]
     },
     "metadata": {
      "needs_background": "light"
     },
     "output_type": "display_data"
    }
   ],
   "source": [
    "s=env.reset(state=8)\n",
    "for t in range(16):\n",
    "    action = agent.act(encoder[s-1:s,:],training=False)\n",
    "    s, reward, done = env.step(action)\n",
    "env.render()"
   ]
  },
  {
   "cell_type": "markdown",
   "metadata": {},
   "source": []
  }
 ],
 "metadata": {
  "kernelspec": {
   "display_name": "Python 3",
   "language": "python",
   "name": "python3"
  },
  "language_info": {
   "codemirror_mode": {
    "name": "ipython",
    "version": 3
   },
   "file_extension": ".py",
   "mimetype": "text/x-python",
   "name": "python",
   "nbconvert_exporter": "python",
   "pygments_lexer": "ipython3",
   "version": "3.6.7"
  }
 },
 "nbformat": 4,
 "nbformat_minor": 2
}
